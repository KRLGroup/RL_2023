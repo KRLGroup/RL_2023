{
  "cells": [
    {
      "cell_type": "code",
      "execution_count": 1,
      "metadata": {
        "colab": {
          "base_uri": "https://localhost:8080/"
        },
        "id": "-pwCaZX3mf9O",
        "outputId": "de960485-c966-4051-9c49-7fb761403c89"
      },
      "outputs": [
        {
          "name": "stdout",
          "output_type": "stream",
          "text": [
            "Requirement already satisfied: gymnasium in c:\\users\\michele\\appdata\\local\\packages\\pythonsoftwarefoundation.python.3.10_qbz5n2kfra8p0\\localcache\\local-packages\\python310\\site-packages (0.29.1)\n",
            "Requirement already satisfied: numpy>=1.21.0 in c:\\users\\michele\\appdata\\local\\packages\\pythonsoftwarefoundation.python.3.10_qbz5n2kfra8p0\\localcache\\local-packages\\python310\\site-packages (from gymnasium) (1.24.4)\n",
            "Requirement already satisfied: cloudpickle>=1.2.0 in c:\\users\\michele\\appdata\\local\\packages\\pythonsoftwarefoundation.python.3.10_qbz5n2kfra8p0\\localcache\\local-packages\\python310\\site-packages (from gymnasium) (3.0.0)\n",
            "Requirement already satisfied: typing-extensions>=4.3.0 in c:\\users\\michele\\appdata\\local\\packages\\pythonsoftwarefoundation.python.3.10_qbz5n2kfra8p0\\localcache\\local-packages\\python310\\site-packages (from gymnasium) (4.8.0)\n",
            "Requirement already satisfied: farama-notifications>=0.0.1 in c:\\users\\michele\\appdata\\local\\packages\\pythonsoftwarefoundation.python.3.10_qbz5n2kfra8p0\\localcache\\local-packages\\python310\\site-packages (from gymnasium) (0.0.4)\n"
          ]
        }
      ],
      "source": [
        "!pip install gymnasium"
      ]
    },
    {
      "cell_type": "code",
      "execution_count": 2,
      "metadata": {
        "id": "t-mwORTUlRLF"
      },
      "outputs": [],
      "source": [
        "import numpy as np\n",
        "import torch\n",
        "import torch.nn as nn\n",
        "from collections import namedtuple, deque\n",
        "from copy import deepcopy\n",
        "import matplotlib.pyplot as plt"
      ]
    },
    {
      "cell_type": "markdown",
      "metadata": {
        "id": "LoeUO3zWlRLJ"
      },
      "source": [
        "# Definition of a 3-layer neural net with tanh activation"
      ]
    },
    {
      "cell_type": "code",
      "execution_count": 3,
      "metadata": {
        "id": "19xScikUlRLL"
      },
      "outputs": [
        {
          "name": "stdout",
          "output_type": "stream",
          "text": [
            "cpu\n"
          ]
        }
      ],
      "source": [
        "device = torch.device(\"cuda\" if torch.cuda.is_available() else \"cpu\")\n",
        "print(device)\n",
        "\n",
        "class Net(nn.Module):\n",
        "    def __init__(self, n_inputs, n_outputs, bias=True):\n",
        "        super().__init__()\n",
        "        self.activation_function= nn.Tanh()\n",
        "\n",
        "        self.layer1 = nn.Linear( #<--- linear layer\n",
        "            n_inputs, #<----------------#input features\n",
        "            64,#<-----------------------#output features\n",
        "            bias=bias)#<----------------bias\n",
        "\n",
        "        self.layer2 = nn.Linear(\n",
        "            64,\n",
        "            32,\n",
        "            bias=bias)\n",
        "\n",
        "        self.layer3 = nn.Linear(\n",
        "                    32,\n",
        "                    n_outputs,\n",
        "                    bias=bias)\n",
        "\n",
        "\n",
        "    def forward(self, x):\n",
        "        x = self.activation_function( self.layer1(x) )\n",
        "        x = self.activation_function( self.layer2(x) )\n",
        "        y = self.layer3(x)\n",
        "\n",
        "        return y\n"
      ]
    },
    {
      "cell_type": "markdown",
      "metadata": {
        "id": "U_eLFU0blRLM"
      },
      "source": [
        "# Q network definition"
      ]
    },
    {
      "cell_type": "code",
      "execution_count": 4,
      "metadata": {
        "id": "QZ39zCL-lRLM"
      },
      "outputs": [],
      "source": [
        "class Q_network(nn.Module):\n",
        "\n",
        "    def __init__(self, env,  learning_rate=1e-4):\n",
        "        super(Q_network, self).__init__()\n",
        "\n",
        "        n_outputs = env.action_space.n\n",
        "\n",
        "        #self.network = Net( ?? , ??)\n",
        "        print( env.observation_space._shape[0], env.action_space.n)\n",
        "        self.network = Net( env.observation_space._shape[0], env.action_space.n)\n",
        "        print(\"Q network:\")\n",
        "        print(self.network)\n",
        "\n",
        "        self.optimizer = torch.optim.Adam(self.network.parameters(),\n",
        "                                          lr=learning_rate)\n",
        "\n",
        "    def greedy_action(self, state):\n",
        "        # greedy action = ??\n",
        "        # greedy_a = 0\n",
        "        qvals = self.get_qvals(state)\n",
        "        greedy_a = torch.max(qvals, dim=-1)[1].item()\n",
        "        return greedy_a\n",
        "\n",
        "    def get_qvals(self, state):\n",
        "        #out = ???\n",
        "        out = self.network(state)\n",
        "        return out"
      ]
    },
    {
      "cell_type": "markdown",
      "metadata": {
        "id": "gharOAZ3lRLN"
      },
      "source": [
        "## Experience replay buffer"
      ]
    },
    {
      "cell_type": "code",
      "execution_count": 5,
      "metadata": {
        "id": "99zdRJ3ClRLN"
      },
      "outputs": [],
      "source": [
        "class Experience_replay_buffer:\n",
        "\n",
        "    def __init__(self, memory_size=50000, burn_in=10000):\n",
        "        self.memory_size = memory_size\n",
        "        self.burn_in = burn_in\n",
        "        self.Buffer = namedtuple('Buffer',\n",
        "                                 field_names=['state', 'action', 'reward', 'done', 'next_state'])\n",
        "        self.replay_memory = deque(maxlen=memory_size)\n",
        "\n",
        "    def sample_batch(self, batch_size=32):\n",
        "        samples = np.random.choice(len(self.replay_memory), batch_size,\n",
        "                                   replace=False)\n",
        "        # Use asterisk operator to unpack deque\n",
        "        batch = zip(*[self.replay_memory[i] for i in samples])\n",
        "        return batch\n",
        "\n",
        "    def append(self, s_0, a, r, d, s_1):\n",
        "        self.replay_memory.append(\n",
        "            self.Buffer(s_0, a, r, d, s_1))\n",
        "\n",
        "    def burn_in_capacity(self):\n",
        "        return len(self.replay_memory) / self.burn_in\n",
        "\n",
        "    def capacity(self):\n",
        "        return len(self.replay_memory) / self.memory_size"
      ]
    },
    {
      "cell_type": "markdown",
      "metadata": {
        "id": "y5TEby1LlRLN"
      },
      "source": [
        "# DDQN agent implementation"
      ]
    },
    {
      "cell_type": "code",
      "execution_count": 6,
      "metadata": {},
      "outputs": [],
      "source": [
        "from matplotlib import animation\n",
        "import matplotlib.pyplot as plt\n",
        "\n",
        "def save_frames_as_gif(frames, path='./', filename='DDQN.gif'):\n",
        "\n",
        "    #Mess with this to change frame size\n",
        "    plt.figure(figsize=(frames[0].shape[1] / 72.0, frames[0].shape[0] / 72.0), dpi=72)\n",
        "\n",
        "    patch = plt.imshow(frames[0])\n",
        "    plt.axis('off')\n",
        "\n",
        "    def animate(i):\n",
        "        patch.set_data(frames[i])\n",
        "\n",
        "    anim = animation.FuncAnimation(plt.gcf(), animate, frames = len(frames), interval=50)\n",
        "    anim.save(path + filename, writer='imagemagick', fps=60)"
      ]
    },
    {
      "cell_type": "code",
      "execution_count": 7,
      "metadata": {
        "id": "SUXA2lWOlRLO"
      },
      "outputs": [],
      "source": [
        "def from_tuple_to_tensor(tuple_of_np):\n",
        "    tensor = torch.zeros((len(tuple_of_np), tuple_of_np[0].shape[0]))\n",
        "    for i, x in enumerate(tuple_of_np):\n",
        "        tensor[i] = torch.FloatTensor(x)\n",
        "    return tensor\n",
        "\n",
        "\n",
        "class DDQN_agent:\n",
        "\n",
        "    def __init__(self, env, rew_thre, buffer, learning_rate=0.001, initial_epsilon=0.5, batch_size= 64):\n",
        "\n",
        "        self.env = env\n",
        "\n",
        "\n",
        "        self.network = Q_network(env, learning_rate).to(device)\n",
        "        #self.target_network = ???\n",
        "        self.target_network = Q_network(env, learning_rate).to(device)\n",
        "        # Or if you want the two networks to start with the same random weights:\n",
        "        # self.target_network = deepcopy(self.network)\n",
        "        self.buffer = buffer\n",
        "        self.epsilon = initial_epsilon\n",
        "        self.batch_size = batch_size\n",
        "        self.window = 50\n",
        "        self.reward_threshold = rew_thre\n",
        "        self.initialize()\n",
        "        self.step_count = 0\n",
        "        self.episode = 0\n",
        "\n",
        "\n",
        "    def take_step(self, mode='exploit'):\n",
        "        # choose action with epsilon greedy\n",
        "        if mode == 'explore':\n",
        "                action = self.env.action_space.sample()\n",
        "        else:\n",
        "                action = self.network.greedy_action(torch.FloatTensor(self.s_0).to(device))\n",
        "\n",
        "        #simulate action\n",
        "        s_1, r, terminated, truncated, _ = self.env.step(action)\n",
        "        done = terminated or truncated\n",
        "\n",
        "        #put experience in the buffer\n",
        "        self.buffer.append(self.s_0, action, r, terminated, s_1)\n",
        "\n",
        "        self.rewards += r\n",
        "\n",
        "        self.s_0 = s_1.copy()\n",
        "\n",
        "        self.step_count += 1\n",
        "        if done:\n",
        "            self.s_0, _ = self.env.reset()\n",
        "        return done\n",
        "\n",
        "    # Implement DQN training algorithm\n",
        "    def train(self, gamma=0.99, max_episodes=10000,\n",
        "              network_update_frequency=10,\n",
        "              network_sync_frequency=200):\n",
        "        self.gamma = gamma\n",
        "\n",
        "        self.loss_function = nn.MSELoss()\n",
        "        self.s_0, _ = self.env.reset()\n",
        "\n",
        "        # Populate replay buffer\n",
        "        while self.buffer.burn_in_capacity() < 1:\n",
        "            self.take_step(mode='explore')\n",
        "        ep = 0\n",
        "        training = True\n",
        "        self.populate = False\n",
        "        while training:\n",
        "            self.s_0, _ = self.env.reset()\n",
        "\n",
        "            self.rewards = 0\n",
        "            done = False\n",
        "            while not done:\n",
        "                if ((ep % 5) == 0):\n",
        "                    self.env.render()\n",
        "\n",
        "                p = np.random.random()\n",
        "                if p < self.epsilon:\n",
        "                    done = self.take_step(mode='explore')\n",
        "                    # print(\"explore\")\n",
        "                else:\n",
        "                    done = self.take_step(mode='exploit')\n",
        "                    # print(\"train\")\n",
        "                # Update network\n",
        "                if self.step_count % network_update_frequency == 0:\n",
        "                    self.update()\n",
        "                # Sync networks\n",
        "                if self.step_count % network_sync_frequency == 0:\n",
        "                    self.target_network.load_state_dict(self.network.state_dict())\n",
        "                    self.sync_eps.append(ep)\n",
        "\n",
        "                if done:\n",
        "                    if self.epsilon >= 0.05:\n",
        "                        self.epsilon = self.epsilon * 0.7\n",
        "                    ep += 1\n",
        "                    if self.rewards > 2000:\n",
        "                        self.training_rewards.append(2000)\n",
        "                    elif self.rewards > 1000:\n",
        "                        self.training_rewards.append(1000)\n",
        "                    elif self.rewards > 500:\n",
        "                        self.training_rewards.append(500)\n",
        "                    else:\n",
        "                        self.training_rewards.append(self.rewards)\n",
        "                    if len(self.update_loss) == 0:\n",
        "                        self.training_loss.append(0)\n",
        "                    else:\n",
        "                        self.training_loss.append(np.mean(self.update_loss))\n",
        "                    self.update_loss = []\n",
        "                    mean_rewards = np.mean(self.training_rewards[-self.window:])\n",
        "                    mean_loss = np.mean(self.training_loss[-self.window:])\n",
        "                    self.mean_training_rewards.append(mean_rewards)\n",
        "                    print(\n",
        "                        \"\\rEpisode {:d} Mean Rewards {:.2f}  Episode reward = {:.2f}   mean loss = {:.2f}\\t\\t\".format(\n",
        "                            ep, mean_rewards, self.rewards, mean_loss), end=\"\")\n",
        "\n",
        "                    if ep >= max_episodes:\n",
        "                        training = False\n",
        "                        print('\\nEpisode limit reached.')\n",
        "                        break\n",
        "                    if mean_rewards >= self.reward_threshold:\n",
        "                        training = False\n",
        "                        print('\\nEnvironment solved in {} episodes!'.format(\n",
        "                            ep))\n",
        "                        #break\n",
        "        # save models\n",
        "        self.save_models()\n",
        "        # plot\n",
        "        self.plot_training_rewards()\n",
        "\n",
        "    def save_models(self):\n",
        "        torch.save(self.network, \"Q_net\")\n",
        "\n",
        "    def load_models(self):\n",
        "        self.network = torch.load(\"Q_net\")\n",
        "        self.network.eval()\n",
        "\n",
        "    def plot_training_rewards(self):\n",
        "        plt.plot(self.mean_training_rewards)\n",
        "        plt.title('Mean training rewards')\n",
        "        plt.ylabel('Reward')\n",
        "        plt.xlabel('Episods')\n",
        "        plt.show()\n",
        "        plt.savefig('mean_training_rewards.png')\n",
        "        plt.clf()\n",
        "\n",
        "    def calculate_loss(self, batch):\n",
        "        #extract info from batch\n",
        "        states, actions, rewards, dones, next_states = list(batch)\n",
        "\n",
        "        #transform in torch tensors\n",
        "        rewards = torch.FloatTensor(rewards).reshape(-1, 1).to(device)\n",
        "        actions = torch.LongTensor(np.array(actions)).reshape(-1, 1).to(device)\n",
        "        dones = torch.IntTensor(dones).reshape(-1, 1).to(device)\n",
        "        states = from_tuple_to_tensor(states).to(device)\n",
        "        next_states = from_tuple_to_tensor(next_states).to(device)\n",
        "\n",
        "        ###############\n",
        "        # DDQN Update #\n",
        "        ###############\n",
        "        # Q(s,a) = ??\n",
        "        qvals = self.network.get_qvals(states)\n",
        "        qvals = torch.gather(qvals, 1, actions)\n",
        "\n",
        "        # target Q(s,a) = ??\n",
        "        next_qvals= self.target_network.get_qvals(next_states)\n",
        "        next_qvals_max = torch.max(next_qvals, dim=-1)[0].reshape(-1, 1)\n",
        "        target_qvals = rewards + (1 - dones)*self.gamma*next_qvals_max\n",
        "\n",
        "        # loss = self.loss_function( Q(s,a) , target_Q(s,a))\n",
        "        loss = self.loss_function(qvals, target_qvals)\n",
        "\n",
        "        return loss\n",
        "\n",
        "\n",
        "    def update(self):\n",
        "        self.network.optimizer.zero_grad()\n",
        "        batch = self.buffer.sample_batch(batch_size=self.batch_size)\n",
        "        loss = self.calculate_loss(batch)\n",
        "\n",
        "        loss.backward()\n",
        "        self.network.optimizer.step()\n",
        "\n",
        "        self.update_loss.append(loss.item())\n",
        "\n",
        "    def initialize(self):\n",
        "        self.training_rewards = []\n",
        "        self.training_loss = []\n",
        "        self.update_loss = []\n",
        "        self.mean_training_rewards = []\n",
        "        self.sync_eps = []\n",
        "        self.rewards = 0\n",
        "        self.step_count = 0\n",
        "\n",
        "    def evaluate(self, eval_env):\n",
        "        done = False\n",
        "        s, _ = eval_env.reset()\n",
        "        rew = 0\n",
        "        frames_gif=[]\n",
        "        while not done:\n",
        "            frames_gif.append(eval_env.render())\n",
        "            action = self.network.greedy_action(torch.FloatTensor(s).to(device))\n",
        "            s, r, terminated, truncated, _ = eval_env.step(action)\n",
        "            done = terminated or truncated\n",
        "            rew += r\n",
        "\n",
        "        print(\"Evaluation cumulative reward: \", rew)\n",
        "        save_frames_as_gif(frames_gif)"
      ]
    },
    {
      "cell_type": "markdown",
      "metadata": {
        "id": "jAk-zkkblRLP"
      },
      "source": [
        "# Train and evaluate on cartpole"
      ]
    },
    {
      "cell_type": "code",
      "execution_count": 8,
      "metadata": {
        "colab": {
          "base_uri": "https://localhost:8080/",
          "height": 819
        },
        "id": "QoZXxNoilRLQ",
        "outputId": "5ff13996-e553-4740-f0e4-8fc084ae1fe5"
      },
      "outputs": [
        {
          "name": "stdout",
          "output_type": "stream",
          "text": [
            "4 2\n",
            "Q network:\n",
            "Net(\n",
            "  (activation_function): Tanh()\n",
            "  (layer1): Linear(in_features=4, out_features=64, bias=True)\n",
            "  (layer2): Linear(in_features=64, out_features=32, bias=True)\n",
            "  (layer3): Linear(in_features=32, out_features=2, bias=True)\n",
            ")\n",
            "4 2\n",
            "Q network:\n",
            "Net(\n",
            "  (activation_function): Tanh()\n",
            "  (layer1): Linear(in_features=4, out_features=64, bias=True)\n",
            "  (layer2): Linear(in_features=64, out_features=32, bias=True)\n",
            "  (layer3): Linear(in_features=32, out_features=2, bias=True)\n",
            ")\n",
            "Episode 1768 Mean Rewards 401.42  Episode reward = 500.00   mean loss = 4.69\t\t\n",
            "Environment solved in 1768 episodes!\n"
          ]
        },
        {
          "data": {
            "image/png": "[encoded data removed]",
            "text/plain": [
              "<Figure size 640x480 with 1 Axes>"
            ]
          },
          "metadata": {},
          "output_type": "display_data"
        },
        {
          "name": "stderr",
          "output_type": "stream",
          "text": [
            "MovieWriter imagemagick unavailable; using Pillow instead.\n"
          ]
        },
        {
          "name": "stdout",
          "output_type": "stream",
          "text": [
            "Evaluation cumulative reward:  500.0\n"
          ]
        },
        {
          "data": {
            "text/plain": [
              "<Figure size 640x480 with 0 Axes>"
            ]
          },
          "metadata": {},
          "output_type": "display_data"
        },
        {
          "data": {
            "image/png": "[encoded data removed]",
            "text/plain": [
              "<Figure size 600x400 with 1 Axes>"
            ]
          },
          "metadata": {},
          "output_type": "display_data"
        }
      ],
      "source": [
        "import gymnasium as gym\n",
        "\n",
        "env = gym.make(\"CartPole-v1\", render_mode=\"rgb_array\")\n",
        "rew_threshold = 400\n",
        "buffer = Experience_replay_buffer()\n",
        "agent = DDQN_agent(env, rew_threshold, buffer)\n",
        "agent.train()\n",
        "\n",
        "eval_env = gym.make(\"CartPole-v1\", render_mode=\"rgb_array\")\n",
        "agent.evaluate(eval_env)"
      ]
    }
  ],
  "metadata": {
    "accelerator": "GPU",
    "colab": {
      "gpuType": "T4",
      "provenance": []
    },
    "kernelspec": {
      "display_name": "Python 3",
      "name": "python3"
    },
    "language_info": {
      "codemirror_mode": {
        "name": "ipython",
        "version": 3
      },
      "file_extension": ".py",
      "mimetype": "text/x-python",
      "name": "python",
      "nbconvert_exporter": "python",
      "pygments_lexer": "ipython3",
      "version": "3.10.11"
    },
    "orig_nbformat": 4
  },
  "nbformat": 4,
  "nbformat_minor": 0
}
